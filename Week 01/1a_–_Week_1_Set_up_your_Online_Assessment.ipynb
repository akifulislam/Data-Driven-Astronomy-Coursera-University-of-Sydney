{
  "nbformat": 4,
  "nbformat_minor": 0,
  "metadata": {
    "colab": {
      "provenance": []
    },
    "kernelspec": {
      "name": "python3",
      "display_name": "Python 3"
    },
    "language_info": {
      "name": "python"
    }
  },
  "cells": [
    {
      "cell_type": "markdown",
      "source": [
        "# Introduction\n"
      ],
      "metadata": {
        "id": "y6bKnQMuxpbC"
      }
    },
    {
      "cell_type": "markdown",
      "source": [
        "In this set of activities, you will get familiar with the Grok Learning platform and have a quick refresh on using Python.\n",
        "\n",
        "The activities each week are organised into content and problem slides, which you can navigate through using the panel on the left. Content slides are marked with a  and problem slides with a . There are also arrows on the top to help you navigate to adjacent slides. Please spend time going through the content which prepares you to solve the problems that follow, where we will ask you to write and submit code for marking. There is no need to panic about mathematics, such as trigonometry. We will explain the math necessary for completing this course as you progress.\n",
        "\n",
        "We will take you through a couple of small examples that show you how to use Grok Learning's platform to submit your solutions."
      ],
      "metadata": {
        "id": "CqjxuckqyN2D"
      }
    },
    {
      "cell_type": "code",
      "source": [
        "# Write your greet function definition below:\n",
        "def greet(name):\n",
        "    return f'Hello, {name}!'\n",
        "\n",
        "# Any code inside the if statement will be ignored by the automarker.\n",
        "# Put your test code in here, since it will be run by clicking Run or Terminal.\n",
        "if __name__ == '__main__':\n",
        "  print(greet('World'))\n",
        "  print(greet('Grok'))\n",
        "  print(greet('123'))"
      ],
      "metadata": {
        "colab": {
          "base_uri": "https://localhost:8080/"
        },
        "id": "r-rAn4Ddxxzd",
        "outputId": "d93d6dfa-3941-471f-a092-4afa34e56c01"
      },
      "execution_count": null,
      "outputs": [
        {
          "output_type": "stream",
          "name": "stdout",
          "text": [
            "Hello, World!\n",
            "Hello, Grok!\n",
            "Hello, 123!\n"
          ]
        }
      ]
    },
    {
      "cell_type": "markdown",
      "source": [
        "Python's standard library includes modules for solving a wide range of data processing tasks.\n",
        "\n",
        "However, for scientific computing and data analysis, the Python developer community has created packages that simplify numerical computing and optimise performance on large data sets.\n",
        "\n",
        "In the astronomy community, the most common modules include:\n",
        "\n",
        "NumPy – support for numerical computing and matrices;\n",
        "\n",
        "SciPy – fundamental libraries for scientific computing;\n",
        "\n",
        "Matplotlib – powerful plotting and data visualisation;\n",
        "\n",
        "Astropy – community library for astronomy.\n",
        "\n",
        "We have many modules installed on Grok and throughout this course we'll show you how to use them."
      ],
      "metadata": {
        "id": "jG0A0aMrzcT5"
      }
    },
    {
      "cell_type": "markdown",
      "source": [
        "Packages like NumPy and Astropy are not included in the standard Python installation. You need to install these packages separately.\n",
        "\n",
        "Packages usually have installation instructions on their website.\n",
        "\n",
        "Two common approaches are using:\n",
        "\n",
        "*   a binary installer (you must use the right version for your Python version, operating system and CPU);\n",
        "*   Python's pip installation tool.\n",
        "\n",
        "Alternatively, you can use custom Python installations such as Enthought Canopy, Anaconda Python or Python(x, y) that include a large number of scientific and engineering packages. Anaconda and Python(x,y) are completely free, and Canopy is free for students.\n",
        "\n",
        "One further note is that almost all astronomy software is designed to run on Linux / MacOSX. If you use Windows on your home machine you might want to install a virtual machine if you plan to work in this area in the future."
      ],
      "metadata": {
        "id": "_fCx8uVbzsZM"
      }
    }
  ]
}